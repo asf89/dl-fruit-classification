{
 "cells": [
  {
   "cell_type": "markdown",
   "id": "1e0d9c85-fffe-401d-bd77-7318b8937252",
   "metadata": {},
   "source": [
    "## Aluno: André de Souza Ferreira"
   ]
  },
  {
   "cell_type": "markdown",
   "id": "4d944189-9e96-43ad-b8e5-acf603dbc496",
   "metadata": {},
   "source": [
    "### Importação do YOLOv5 e instalação das dependências"
   ]
  },
  {
   "cell_type": "code",
   "execution_count": null,
   "id": "24917c7b",
   "metadata": {},
   "outputs": [],
   "source": [
    "!git clone https://github.com/ultralytics/yolov5  \n",
    "%cd yolov5\n",
    "%pip install -qr requirements.txt \n",
    "%pip install -q roboflow"
   ]
  },
  {
   "cell_type": "code",
   "execution_count": 2,
   "id": "79485ecd",
   "metadata": {
    "tags": []
   },
   "outputs": [],
   "source": [
    "import torch \n",
    "import os\n",
    "from IPython.display import Image, clear_output"
   ]
  },
  {
   "cell_type": "markdown",
   "id": "6a1bbded-ad78-4965-9008-4cb4a5ab969c",
   "metadata": {},
   "source": [
    "### Instalação da biblioteca do Weights & Biases"
   ]
  },
  {
   "cell_type": "code",
   "execution_count": 3,
   "id": "3712cf1b-2b62-4b45-ba12-8475d5a4d2da",
   "metadata": {},
   "outputs": [
    {
     "name": "stdout",
     "output_type": "stream",
     "text": [
      "Note: you may need to restart the kernel to use updated packages.\n"
     ]
    }
   ],
   "source": [
    "%pip install -q wandb\n",
    "import wandb"
   ]
  },
  {
   "cell_type": "code",
   "execution_count": null,
   "id": "427680a6-cdd0-4558-8625-cff2f371de36",
   "metadata": {
    "tags": []
   },
   "outputs": [],
   "source": [
    "wandb.login()"
   ]
  },
  {
   "cell_type": "markdown",
   "id": "2bb105fa-81c9-46e8-8c9e-9fc52595af42",
   "metadata": {},
   "source": [
    "### Download do dataset do Roboflow"
   ]
  },
  {
   "cell_type": "code",
   "execution_count": null,
   "id": "3b249ed2",
   "metadata": {
    "tags": []
   },
   "outputs": [],
   "source": [
    "%pip install roboflow\n",
    "\n",
    "from roboflow import Roboflow\n",
    "rf = Roboflow(api_key=\"\")\n",
    "project = rf.workspace(\"\").project(\"\")\n",
    "dataset = project.version(1).download(\"yolov5\")\n"
   ]
  },
  {
   "cell_type": "markdown",
   "id": "0b1cc262-6103-4fff-88dc-66d6d32cdae0",
   "metadata": {},
   "source": [
    "### Treinamento do modelo e apresentação das métricas por época"
   ]
  },
  {
   "cell_type": "code",
   "execution_count": null,
   "id": "f2a7056a-c9e5-400d-ba08-24288520bb85",
   "metadata": {
    "tags": []
   },
   "outputs": [],
   "source": [
    "!python train.py --img 640 --batch 27 --epochs 100 --data {dataset.location}/data.yaml --weights yolov5s.pt --cache"
   ]
  },
  {
   "cell_type": "markdown",
   "id": "2092cb68-c256-4b07-8938-a4446397803c",
   "metadata": {},
   "source": [
    "### Validação do modelo"
   ]
  },
  {
   "cell_type": "code",
   "execution_count": null,
   "id": "7424aeda-a316-4a79-ad17-3e53bf772d1d",
   "metadata": {},
   "outputs": [],
   "source": [
    "!python detect.py --weights runs/train/exp/weights/best.pt --img 416 --conf 0.1 --source {dataset.location}/test/images"
   ]
  },
  {
   "cell_type": "markdown",
   "id": "cbdf335b-a23b-45bf-bf80-e0ca02aa8450",
   "metadata": {},
   "source": [
    "### Conclusão"
   ]
  },
  {
   "cell_type": "markdown",
   "id": "0e958c2f-a616-4023-a7e7-d67e708b8c6f",
   "metadata": {},
   "source": [
    "O modelo treinado conseguiu uma precisão de **99,50 %**."
   ]
  },
  {
   "cell_type": "code",
   "execution_count": null,
   "id": "3659be0d-9c11-4094-8a30-7102d4e607b6",
   "metadata": {},
   "outputs": [],
   "source": []
  }
 ],
 "metadata": {
  "kernelspec": {
   "display_name": "Python 3 (ipykernel)",
   "language": "python",
   "name": "python3"
  },
  "language_info": {
   "codemirror_mode": {
    "name": "ipython",
    "version": 3
   },
   "file_extension": ".py",
   "mimetype": "text/x-python",
   "name": "python",
   "nbconvert_exporter": "python",
   "pygments_lexer": "ipython3",
   "version": "3.10.12"
  }
 },
 "nbformat": 4,
 "nbformat_minor": 5
}
